{
 "cells": [
  {
   "cell_type": "code",
   "execution_count": null,
   "id": "f7b8b259",
   "metadata": {},
   "outputs": [],
   "source": [
    "# Import necessary libraries\n",
    "import pandas as pd\n",
    "import numpy as np\n",
    "import matplotlib.pyplot as plt\n",
    "import seaborn as sns\n",
    "\n",
    "# Machine learning models and tools\n",
    "from sklearn.model_selection import train_test_split\n",
    "from sklearn.preprocessing import LabelEncoder\n",
    "from sklearn.feature_selection import mutual_info_classif, chi2\n",
    "from sklearn.ensemble import RandomForestClassifier\n",
    "from sklearn.metrics import (\n",
    "    accuracy_score, precision_score, recall_score, f1_score, \n",
    "    roc_auc_score, matthews_corrcoef, cohen_kappa_score, classification_report\n",
    ")\n",
    "\n",
    "# Ignore warnings\n",
    "import warnings\n",
    "warnings.filterwarnings('ignore')"
   ]
  },
  {
   "cell_type": "code",
   "execution_count": null,
   "id": "f26152ca",
   "metadata": {},
   "outputs": [],
   "source": [
    "# Load the dataset (assuming the dataset is already loaded and categorical variables are encoded)\n",
    "# For demonstration, let's assume the dataset is loaded into 'df'\n",
    "df = pd.read_csv('ASD_Traits_Study_Data.csv')\n",
    "\n",
    "# Display the first few rows of the dataset\n",
    "df.head()"
   ]
  },
  {
   "cell_type": "code",
   "execution_count": null,
   "id": "cbcb32e2",
   "metadata": {},
   "outputs": [],
   "source": [
    "# Define features (X) and target variable (y)\n",
    "X = df.drop(columns=['ASD_traits'])\n",
    "y = df['ASD_traits']"
   ]
  },
  {
   "cell_type": "code",
   "execution_count": null,
   "id": "b7a68bc2",
   "metadata": {},
   "outputs": [],
   "source": [
    "# Split data into training (70%) and testing (30%) sets\n",
    "X_train, X_test, y_train, y_test = train_test_split(\n",
    "    X, y, test_size=0.3, random_state=42, stratify=y\n",
    ")\n",
    "\n",
    "# Verify the shapes of training and testing datasets\n",
    "print(f\"Training set: {X_train.shape}, Testing set: {X_test.shape}\")"
   ]
  },
  {
   "cell_type": "code",
   "execution_count": null,
   "id": "202431f7",
   "metadata": {},
   "outputs": [],
   "source": [
    "# Display first few rows of X_train\n",
    "print(\"First few rows of X_train:\")\n",
    "print(X_train.head())\n",
    "\n",
    "# Information about X_train\n",
    "print(\"\\nInformation about X_train:\")\n",
    "print(X_train.info())\n",
    "\n",
    "# Statistical summary of X_train\n",
    "print(\"\\nStatistical summary of X_train:\")\n",
    "print(X_train.describe())"
   ]
  },
  {
   "cell_type": "code",
   "execution_count": null,
   "id": "b2199be2",
   "metadata": {},
   "outputs": [],
   "source": [
    "# Correlation Analysis\n",
    "corr_matrix = X_train.corr()\n",
    "plt.figure(figsize=(12, 10))\n",
    "sns.heatmap(corr_matrix, annot=False, cmap='coolwarm')\n",
    "plt.title('Feature Correlation Matrix')\n",
    "plt.show()"
   ]
  },
  {
   "cell_type": "code",
   "execution_count": null,
   "id": "d6d8977c",
   "metadata": {},
   "outputs": [],
   "source": [
    "# Feature Importance using Random Forest\n",
    "rf = RandomForestClassifier(n_estimators=100, random_state=42)\n",
    "rf.fit(X_train, y_train)\n",
    "importances = rf.feature_importances_\n",
    "feature_names = X_train.columns\n",
    "feature_importance = pd.Series(importances, index=feature_names).sort_values(ascending=False)\n",
    "print(\"\\nFeature Importances:\")\n",
    "print(feature_importance)"
   ]
  },
  {
   "cell_type": "code",
   "execution_count": null,
   "id": "c165c7f3",
   "metadata": {},
   "outputs": [],
   "source": [
    "# Chi-Square Test\n",
    "chi_scores, p_values = chi2(X_train, y_train)\n",
    "chi_scores_df = pd.Series(chi_scores, index=X_train.columns)\n",
    "chi_scores_df.sort_values(ascending=False, inplace=True)\n",
    "print(\"\\nChi-Square Scores:\")\n",
    "print(chi_scores_df)"
   ]
  },
  {
   "cell_type": "code",
   "execution_count": null,
   "id": "9d2a4e54",
   "metadata": {},
   "outputs": [],
   "source": [
    "# Mutual Information\n",
    "mi_scores = mutual_info_classif(X_train, y_train, random_state=42)\n",
    "mi_scores_df = pd.Series(mi_scores, index=X_train.columns)\n",
    "mi_scores_df.sort_values(ascending=False, inplace=True)\n",
    "print(\"\\nMutual Information Scores:\")\n",
    "print(mi_scores_df)"
   ]
  },
  {
   "cell_type": "code",
   "execution_count": null,
   "id": "f6336d6f",
   "metadata": {},
   "outputs": [],
   "source": [
    "# Select top 10 features based on Mutual Information\n",
    "selected_features = mi_scores_df.index[:10]\n",
    "print(\"\\nSelected Features based on Mutual Information:\")\n",
    "print(selected_features)\n",
    "\n",
    "# Create new datasets with selected features\n",
    "X_train_selected = X_train[selected_features]\n",
    "X_test_selected = X_test[selected_features]"
   ]
  },
  {
   "cell_type": "code",
   "execution_count": null,
   "id": "cf39b0e1",
   "metadata": {},
   "outputs": [],
   "source": [
    "# Train Random Forest on all features\n",
    "rf_all_features = RandomForestClassifier(random_state=42)\n",
    "rf_all_features.fit(X_train, y_train)\n",
    "\n",
    "# Predict and evaluate on the test set with all features\n",
    "y_test_pred = rf_all_features.predict(X_test)\n",
    "y_test_prob = rf_all_features.predict_proba(X_test)[:, 1]\n",
    "\n",
    "accuracy = accuracy_score(y_test, y_test_pred)\n",
    "precision = precision_score(y_test, y_test_pred)\n",
    "recall = recall_score(y_test, y_test_pred)\n",
    "f1 = f1_score(y_test, y_test_pred)\n",
    "roc_auc = roc_auc_score(y_test, y_test_prob)\n",
    "mcc = matthews_corrcoef(y_test, y_test_pred)\n",
    "kappa = cohen_kappa_score(y_test, y_test_pred)\n",
    "\n",
    "print(\"Test Set Metrics (All Features):\")\n",
    "print(f\"Accuracy: {accuracy:.4f}, Precision: {precision:.4f}, Recall: {recall:.4f}\")\n",
    "print(f\"F1-Score: {f1:.4f}, ROC-AUC: {roc_auc:.4f}\")\n",
    "print(f\"MCC: {mcc:.4f}, Cohen's Kappa: {kappa:.4f}\")\n",
    "print(\"-\" * 40)"
   ]
  },
  {
   "cell_type": "code",
   "execution_count": null,
   "id": "daaab153",
   "metadata": {},
   "outputs": [],
   "source": [
    "# Train Random Forest on selected features\n",
    "rf_selected_features = RandomForestClassifier(random_state=42)\n",
    "rf_selected_features.fit(X_train_selected, y_train)\n",
    "\n",
    "# Predict and evaluate on the test set with selected features\n",
    "y_test_pred_selected = rf_selected_features.predict(X_test_selected)\n",
    "y_test_prob_selected = rf_selected_features.predict_proba(X_test_selected)[:, 1]\n",
    "\n",
    "accuracy_sel = accuracy_score(y_test, y_test_pred_selected)\n",
    "precision_sel = precision_score(y_test, y_test_pred_selected)\n",
    "recall_sel = recall_score(y_test, y_test_pred_selected)\n",
    "f1_sel = f1_score(y_test, y_test_pred_selected)\n",
    "roc_auc_sel = roc_auc_score(y_test, y_test_prob_selected)\n",
    "mcc_sel = matthews_corrcoef(y_test, y_test_pred_selected)\n",
    "kappa_sel = cohen_kappa_score(y_test, y_test_pred_selected)\n",
    "\n",
    "print(\"Test Set Metrics (Selected Features):\")\n",
    "print(f\"Accuracy: {accuracy_sel:.4f}, Precision: {precision_sel:.4f}, Recall: {recall_sel:.4f}\")\n",
    "print(f\"F1-Score: {f1_sel:.4f}, ROC-AUC: {roc_auc_sel:.4f}\")\n",
    "print(f\"MCC: {mcc_sel:.4f}, Cohen's Kappa: {kappa_sel:.4f}\")\n",
    "print(\"-\" * 40)"
   ]
  },
  {
   "cell_type": "code",
   "execution_count": null,
   "id": "fa3e5a63",
   "metadata": {},
   "outputs": [],
   "source": [
    "# Create a DataFrame to compare the performance\n",
    "results = pd.DataFrame({\n",
    "    'Metric': ['Accuracy', 'Precision', 'Recall', 'F1-Score', 'ROC-AUC', 'MCC', \"Cohen's Kappa\"],\n",
    "    'All Features': [accuracy, precision, recall, f1, roc_auc, mcc, kappa],\n",
    "    'Selected Features': [accuracy_sel, precision_sel, recall_sel, f1_sel, roc_auc_sel, mcc_sel, kappa_sel]\n",
    "})\n",
    "\n",
    "print(\"Comparison of Model Performance:\")\n",
    "print(results)"
   ]
  }
 ],
 "metadata": {
  "kernelspec": {
   "display_name": "Python 3 (ipykernel)",
   "language": "python",
   "name": "python3"
  },
  "language_info": {
   "codemirror_mode": {
    "name": "ipython",
    "version": 3
   },
   "file_extension": ".py",
   "mimetype": "text/x-python",
   "name": "python",
   "nbconvert_exporter": "python",
   "pygments_lexer": "ipython3",
   "version": "3.11.5"
  }
 },
 "nbformat": 4,
 "nbformat_minor": 5
}
