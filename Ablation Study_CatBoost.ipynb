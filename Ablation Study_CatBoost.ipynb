{
 "cells": [
  {
   "cell_type": "code",
   "execution_count": null,
   "id": "f03be3d0",
   "metadata": {},
   "outputs": [],
   "source": [
    "# Step 1: Import necessary libraries\n",
    "import numpy as np\n",
    "import pandas as pd\n",
    "from sklearn.model_selection import train_test_split, StratifiedKFold, GridSearchCV\n",
    "from catboost import CatBoostClassifier\n",
    "from sklearn.metrics import accuracy_score, precision_score, recall_score, f1_score, roc_auc_score, matthews_corrcoef, cohen_kappa_score"
   ]
  },
  {
   "cell_type": "code",
   "execution_count": null,
   "id": "d45a1ba2",
   "metadata": {},
   "outputs": [],
   "source": [
    "# Step 2: Load and preview the dataset\n",
    "# Replace 'ASD_Traits_Study_Data.csv' with the actual dataset file name\n",
    "data_file = 'ASD_Traits_Study_Data.csv'  # Ensure this file is in the working directory\n",
    "df = pd.read_csv(data_file)\n",
    "\n",
    "# Display the first few rows of the dataset for verification\n",
    "print(\"Dataset Preview:\")\n",
    "print(df.head())\n",
    "\n",
    "# Display basic information about the dataset\n",
    "print(\"\\nDataset Information:\")\n",
    "df.info()\n",
    "\n",
    "# Check for missing values in the dataset\n",
    "missing_values = df.isnull().sum()\n",
    "print(\"\\nMissing Values:\")\n",
    "print(missing_values[missing_values > 0])\n",
    "\n",
    "# Confirm the number of rows and columns\n",
    "print(f\"\\nDataset Shape: {df.shape}\")"
   ]
  },
  {
   "cell_type": "code",
   "execution_count": null,
   "id": "f410f8a6",
   "metadata": {},
   "outputs": [],
   "source": [
    "# Step 3: Define the target variable and feature subsets (cases)\n",
    "target = 'ASD_traits'\n",
    "\n",
    "# Feature subsets for the ablation study\n",
    "feature_cases = {\n",
    "    \"Minimal Feature Set\": ['SRS', 'CARS', 'AQ10'],\n",
    "    \"Binary Diagnostic Variables\": ['A1', 'A2', 'A3', 'A4', 'A5', 'A6', 'A7', 'A8', 'A9', 'A10'],\n",
    "    \"Behavioral and Diagnostic Scores\": ['SRS', 'CARS', 'AQ10'],\n",
    "    \"Demographic Features Only\": ['Gender', 'Age_Years', 'Ethnicity', 'Family_mem_with_ASD', 'Rater'],\n",
    "    \"Combination of Key Groups\": ['Gender', 'Age_Years', 'Ethnicity', 'Family_mem_with_ASD', 'Rater', 'SRS', 'CARS', 'AQ10'],\n",
    "    \"Full Feature Set\": ['Gender', 'Age_Years', 'Ethnicity', 'Family_mem_with_ASD', 'Rater', 'SRS', 'CARS',\n",
    "                         'A1', 'A2', 'A3', 'A4', 'A5', 'A6', 'A7', 'A8', 'A9', 'A10', 'AQ10']\n",
    "}"
   ]
  },
  {
   "cell_type": "code",
   "execution_count": null,
   "id": "e0c55bb3",
   "metadata": {},
   "outputs": [],
   "source": [
    "# Step 4: Split the dataset into training and testing sets (70:30 split with stratification)\n",
    "X = df.drop(columns=[target])\n",
    "y = df[target]\n",
    "\n",
    "# Perform stratified split to maintain class distribution\n",
    "X_train, X_test, y_train, y_test = train_test_split(\n",
    "    X, y, test_size=0.3, stratify=y, random_state=42\n",
    ")"
   ]
  },
  {
   "cell_type": "code",
   "execution_count": null,
   "id": "de1cbe12",
   "metadata": {},
   "outputs": [],
   "source": [
    "# Step 5: Define the function for model training and evaluation\n",
    "def evaluate_model(X_train, X_test, y_train, y_test, cat_features=None):\n",
    "    \"\"\"\n",
    "    Function to train and evaluate a CatBoost model using 5-fold cross-validation for grid search.\n",
    "    \"\"\"\n",
    "    # Define hyperparameter grid for CatBoost\n",
    "    grid = {\n",
    "        'learning_rate': [0.03, 0.1],\n",
    "        'depth': [4, 6, 10],\n",
    "        'l2_leaf_reg': [1, 3, 5, 7, 9]\n",
    "    }\n",
    "    \n",
    "    # Initialize StratifiedKFold for 5-fold cross-validation\n",
    "    kf = StratifiedKFold(n_splits=5, shuffle=True, random_state=42)\n",
    "    \n",
    "    # Initialize variables to track the best model and its performance\n",
    "    best_model = None\n",
    "    best_params = None\n",
    "    best_score = -np.inf\n",
    "    \n",
    "    # Perform 5-fold cross-validation on the training set\n",
    "    for train_idx, valid_idx in kf.split(X_train, y_train):\n",
    "        # Split training data into train and validation subsets for the current fold\n",
    "        X_train_fold, X_valid_fold = X_train.iloc[train_idx], X_train.iloc[valid_idx]\n",
    "        y_train_fold, y_valid_fold = y_train.iloc[train_idx], y_train.iloc[valid_idx]\n",
    "        \n",
    "        # Initialize CatBoostClassifier\n",
    "        model = CatBoostClassifier(cat_features=cat_features, random_state=42, verbose=0)\n",
    "        \n",
    "        # Perform grid search for hyperparameter tuning\n",
    "        grid_search = GridSearchCV(model, param_grid=grid, scoring='f1', cv=5, n_jobs=-1, verbose=0)\n",
    "        grid_search.fit(X_train_fold, y_train_fold)\n",
    "        \n",
    "        # Get the best model and evaluate it on the validation set\n",
    "        fold_best_model = grid_search.best_estimator_\n",
    "        y_valid_pred = fold_best_model.predict(X_valid_fold)\n",
    "        fold_f1 = f1_score(y_valid_fold, y_valid_pred)\n",
    "        \n",
    "        # Update the best model if this fold's F1-score is the highest\n",
    "        if fold_f1 > best_score:\n",
    "            best_model = fold_best_model\n",
    "            best_params = grid_search.best_params_\n",
    "            best_score = fold_f1\n",
    "    \n",
    "    # Evaluate the best model on the test set\n",
    "    y_test_pred = best_model.predict(X_test)\n",
    "    y_test_prob = best_model.predict_proba(X_test)[:, 1]\n",
    "    metrics = {\n",
    "        'Accuracy': accuracy_score(y_test, y_test_pred),\n",
    "        'Precision': precision_score(y_test, y_test_pred),\n",
    "        'Recall': recall_score(y_test, y_test_pred),\n",
    "        'F1-Score': f1_score(y_test, y_test_pred),\n",
    "        'ROC-AUC': roc_auc_score(y_test, y_test_prob),\n",
    "        'MCC': matthews_corrcoef(y_test, y_test_pred),\n",
    "        'Cohen Kappa': cohen_kappa_score(y_test, y_test_pred),\n",
    "        'Best Params': best_params\n",
    "    }\n",
    "    return metrics"
   ]
  },
  {
   "cell_type": "code",
   "execution_count": null,
   "id": "4b60b21c",
   "metadata": {},
   "outputs": [],
   "source": [
    "# Step 6: Perform the ablation study\n",
    "results = {}  # Dictionary to store results for each case\n",
    "for case_name, features in feature_cases.items():\n",
    "    print(f\"Processing: {case_name}\")\n",
    "    # Subset the training and testing data based on the current feature set\n",
    "    X_train_case = X_train[features]\n",
    "    X_test_case = X_test[features]\n",
    "    # Identify categorical features for CatBoost\n",
    "    cat_features = [col for col in features if col in X.select_dtypes(include=[object, 'category']).columns]\n",
    "    # Evaluate the model for the current case\n",
    "    metrics = evaluate_model(X_train_case, X_test_case, y_train, y_test, cat_features=cat_features)\n",
    "    results[case_name] = metrics\n",
    "    print(f\"Results for {case_name}: {metrics}\")"
   ]
  },
  {
   "cell_type": "code",
   "execution_count": null,
   "id": "cad76698",
   "metadata": {
    "scrolled": true
   },
   "outputs": [],
   "source": [
    "# Step 7: Summarize the results in a DataFrame\n",
    "results_df = pd.DataFrame(results).T\n",
    "print(results_df)"
   ]
  },
  {
   "cell_type": "code",
   "execution_count": null,
   "id": "a0ae521d",
   "metadata": {},
   "outputs": [],
   "source": [
    "# Step 8: Save the results to a CSV file for analysis\n",
    "results_df.to_csv('ablation_study_results.csv', index=True)"
   ]
  }
 ],
 "metadata": {
  "kernelspec": {
   "display_name": "Python 3 (ipykernel)",
   "language": "python",
   "name": "python3"
  },
  "language_info": {
   "codemirror_mode": {
    "name": "ipython",
    "version": 3
   },
   "file_extension": ".py",
   "mimetype": "text/x-python",
   "name": "python",
   "nbconvert_exporter": "python",
   "pygments_lexer": "ipython3",
   "version": "3.11.5"
  }
 },
 "nbformat": 4,
 "nbformat_minor": 5
}
