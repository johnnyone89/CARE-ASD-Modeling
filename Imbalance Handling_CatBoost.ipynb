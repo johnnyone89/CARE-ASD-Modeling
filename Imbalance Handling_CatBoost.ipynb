{
 "cells": [
  {
   "cell_type": "code",
   "execution_count": null,
   "id": "dcb103df",
   "metadata": {},
   "outputs": [],
   "source": [
    "# Import required libraries\n",
    "import pandas as pd\n",
    "import numpy as np\n",
    "from catboost import CatBoostClassifier\n",
    "from imblearn.over_sampling import SMOTE, RandomOverSampler, ADASYN, BorderlineSMOTE\n",
    "from imblearn.under_sampling import RandomUnderSampler, NearMiss, TomekLinks\n",
    "from imblearn.combine import SMOTEENN, SMOTETomek\n",
    "from sklearn.model_selection import train_test_split, GridSearchCV, StratifiedKFold\n",
    "from sklearn.metrics import accuracy_score, precision_score, recall_score, f1_score, roc_auc_score, matthews_corrcoef, cohen_kappa_score"
   ]
  },
  {
   "cell_type": "code",
   "execution_count": null,
   "id": "387464f0",
   "metadata": {},
   "outputs": [],
   "source": [
    "# Load the dataset\n",
    "df = pd.read_csv('ASD_Traits_Study_Data.csv')\n",
    "\n",
    "# Define features (X) and target variable (y)\n",
    "X = df.drop(columns=['ASD_traits'])\n",
    "y = df['ASD_traits']"
   ]
  },
  {
   "cell_type": "code",
   "execution_count": null,
   "id": "382bd617",
   "metadata": {},
   "outputs": [],
   "source": [
    "# Identify categorical features\n",
    "category_cols = X.select_dtypes(include=[object, 'category']).columns.tolist()\n",
    "\n",
    "# Split data into training (70%) and testing (30%) sets\n",
    "X_train, X_test, y_train, y_test = train_test_split(X, y, test_size=0.3, random_state=42, stratify=y)\n",
    "\n",
    "# Define the parameter grid for CatBoost hyperparameter tuning\n",
    "grid = {\n",
    "    'learning_rate': [0.03, 0.1],\n",
    "    'depth': [4, 6, 10],\n",
    "    'l2_leaf_reg': [1, 3, 5, 7, 9]\n",
    "}"
   ]
  },
  {
   "cell_type": "code",
   "execution_count": null,
   "id": "158d1111",
   "metadata": {},
   "outputs": [],
   "source": [
    "# Function to handle data imbalance\n",
    "def handle_imbalance(X, y, technique=\"none\"):\n",
    "    \"\"\"\n",
    "    Handle data imbalance using the specified technique.\n",
    "    :param X: Feature matrix\n",
    "    :param y: Target variable\n",
    "    :param technique: Resampling technique ('oversample', 'undersample', 'smote', 'borderline-smote', \n",
    "                      'adasyn', 'near-miss', 'tomek', 'smoteenn', 'smotetomek', or 'none')\n",
    "    :return: Resampled feature matrix and target variable\n",
    "    \"\"\"\n",
    "    if technique == \"oversample\":\n",
    "        resampler = RandomOverSampler(random_state=42)\n",
    "    elif technique == \"undersample\":\n",
    "        resampler = RandomUnderSampler(random_state=42)\n",
    "    elif technique == \"smote\":\n",
    "        resampler = SMOTE(random_state=42)\n",
    "    elif technique == \"borderline-smote\":\n",
    "        resampler = BorderlineSMOTE(random_state=42)\n",
    "    elif technique == \"adasyn\":\n",
    "        resampler = ADASYN(random_state=42)\n",
    "    elif technique == \"near-miss\":\n",
    "        resampler = NearMiss()\n",
    "    elif technique == \"tomek\":\n",
    "        resampler = TomekLinks()\n",
    "    elif technique == \"smoteenn\":\n",
    "        resampler = SMOTEENN(random_state=42)\n",
    "    elif technique == \"smotetomek\":\n",
    "        resampler = SMOTETomek(random_state=42)\n",
    "    else:  # No resampling\n",
    "        return X, y\n",
    "    \n",
    "    X_resampled, y_resampled = resampler.fit_resample(X, y)\n",
    "    return X_resampled, y_resampled"
   ]
  },
  {
   "cell_type": "code",
   "execution_count": null,
   "id": "c723198a",
   "metadata": {},
   "outputs": [],
   "source": [
    "# Perform cross-validation with imbalance handling\n",
    "imbalance_methods = [\"none\", \"oversample\", \"undersample\", \"smote\", \"borderline-smote\", \n",
    "                     \"adasyn\", \"near-miss\", \"tomek\", \"smoteenn\", \"smotetomek\"]\n",
    "cv_results = []"
   ]
  },
  {
   "cell_type": "code",
   "execution_count": null,
   "id": "f87a908c",
   "metadata": {},
   "outputs": [],
   "source": [
    "print(\"Starting grid search with all imbalance handling techniques...\")\n",
    "for method in imbalance_methods:\n",
    "    print(f\"\\nHandling imbalance using: {method}\")\n",
    "    \n",
    "    # Step 1: Apply resampling to the entire training set\n",
    "    X_train_resampled, y_train_resampled = handle_imbalance(X_train, y_train, technique=method)\n",
    "    \n",
    "    # Step 2: Initialize CatBoostClassifier\n",
    "    model = CatBoostClassifier(cat_features=category_cols, random_state=42, verbose=0)\n",
    "    \n",
    "    # Step 3: Perform grid search on the resampled data\n",
    "    grid_search = GridSearchCV(estimator=model, param_grid=grid, scoring='f1', cv=5, n_jobs=-1, verbose=1)\n",
    "    grid_search.fit(X_train_resampled, y_train_resampled)\n",
    "    \n",
    "    # Step 4: Evaluate the best model on the test set\n",
    "    best_model = grid_search.best_estimator_\n",
    "    y_test_pred = best_model.predict(X_test)\n",
    "    y_test_prob = best_model.predict_proba(X_test)[:, 1]\n",
    "    \n",
    "    # Step 5: Calculate performance metrics\n",
    "    test_metrics = {\n",
    "        'Imbalance Method': method,\n",
    "        'Best Parameters': grid_search.best_params_,\n",
    "        'Accuracy': accuracy_score(y_test, y_test_pred),\n",
    "        'Precision': precision_score(y_test, y_test_pred),\n",
    "        'Recall': recall_score(y_test, y_test_pred),\n",
    "        'F1-Score': f1_score(y_test, y_test_pred),\n",
    "        'ROC-AUC': roc_auc_score(y_test, y_test_prob),\n",
    "        'MCC': matthews_corrcoef(y_test, y_test_pred),\n",
    "        'Cohen Kappa': cohen_kappa_score(y_test, y_test_pred),\n",
    "    }\n",
    "    cv_results.append(test_metrics)\n",
    "    print(f\"Metrics for {method}: {test_metrics}\")\n",
    "    print(\"-\" * 40)"
   ]
  },
  {
   "cell_type": "code",
   "execution_count": null,
   "id": "c9b144c8",
   "metadata": {},
   "outputs": [],
   "source": [
    "# Convert results to DataFrame and save\n",
    "cv_results_df = pd.DataFrame(cv_results)\n",
    "cv_results_df.to_csv('imbalance_cv_results.csv', index=False)\n",
    "print(\"\\nCross-Validation Results Saved to 'imbalance_cv_results.csv'.\")"
   ]
  },
  {
   "cell_type": "code",
   "execution_count": null,
   "id": "e866e294",
   "metadata": {},
   "outputs": [],
   "source": [
    "# Evaluate the best model for each method on the test set\n",
    "test_results = []\n",
    "for method in imbalance_methods:\n",
    "    print(f\"\\nEvaluating the best model from {method} on the test set...\")\n",
    "    X_train_resampled, y_train_resampled = handle_imbalance(X_train, y_train, technique=method)\n",
    "    \n",
    "    # Train the best model on the entire resampled training data\n",
    "    best_model.fit(X_train_resampled, y_train_resampled)\n",
    "    y_test_pred = best_model.predict(X_test)\n",
    "    y_test_prob = best_model.predict_proba(X_test)[:, 1]\n",
    "\n",
    "    # Calculate test metrics\n",
    "    test_metrics = {\n",
    "        'Imbalance Method': method,\n",
    "        'Best Parameters': best_params,\n",
    "        'Accuracy': accuracy_score(y_test, y_test_pred),\n",
    "        'Precision': precision_score(y_test, y_test_pred),\n",
    "        'Recall': recall_score(y_test, y_test_pred),\n",
    "        'F1-Score': f1_score(y_test, y_test_pred),\n",
    "        'ROC-AUC': roc_auc_score(y_test, y_test_prob),\n",
    "        'MCC': matthews_corrcoef(y_test, y_test_pred),\n",
    "        'Cohen Kappa': cohen_kappa_score(y_test, y_test_pred),\n",
    "    }\n",
    "    test_results.append(test_metrics)"
   ]
  },
  {
   "cell_type": "code",
   "execution_count": null,
   "id": "e8e586e9",
   "metadata": {},
   "outputs": [],
   "source": [
    "# Save test set metrics\n",
    "test_results_df = pd.DataFrame(test_results)\n",
    "test_results_df.to_csv('imbalance_test_results.csv', index=False)\n",
    "print(\"\\nTest Set Results Saved to 'imbalance_test_results.csv'.\")"
   ]
  }
 ],
 "metadata": {
  "kernelspec": {
   "display_name": "Python 3 (ipykernel)",
   "language": "python",
   "name": "python3"
  },
  "language_info": {
   "codemirror_mode": {
    "name": "ipython",
    "version": 3
   },
   "file_extension": ".py",
   "mimetype": "text/x-python",
   "name": "python",
   "nbconvert_exporter": "python",
   "pygments_lexer": "ipython3",
   "version": "3.11.5"
  }
 },
 "nbformat": 4,
 "nbformat_minor": 5
}
