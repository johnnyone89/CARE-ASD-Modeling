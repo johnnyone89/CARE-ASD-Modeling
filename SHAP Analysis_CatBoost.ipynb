{
 "cells": [
  {
   "cell_type": "code",
   "execution_count": null,
   "id": "2d112abe-1361-43dc-a2c3-36dccefb987e",
   "metadata": {},
   "outputs": [],
   "source": [
    "# Import required libraries\n",
    "from catboost import CatBoostClassifier\n",
    "from sklearn.model_selection import train_test_split, GridSearchCV, StratifiedKFold\n",
    "from sklearn.metrics import accuracy_score, precision_score, recall_score, f1_score, roc_auc_score, matthews_corrcoef, cohen_kappa_score\n",
    "import numpy as np\n",
    "import pandas as pd"
   ]
  },
  {
   "cell_type": "code",
   "execution_count": null,
   "id": "2db6e9c8-1aec-4ddc-b204-ef1de679e303",
   "metadata": {},
   "outputs": [],
   "source": [
    "# Load the dataset\n",
    "df = pd.read_csv('ASD_Traits_Study_Data.csv')\n",
    "\n",
    "# Display the first few rows of the dataset\n",
    "df.head()"
   ]
  },
  {
   "cell_type": "code",
   "execution_count": null,
   "id": "12c20104-6115-4006-a715-4fb7cef8658c",
   "metadata": {},
   "outputs": [],
   "source": [
    "# Define features (X) and target variable (y)\n",
    "X = df.drop(columns=['ASD_traits'])\n",
    "y = df['ASD_traits']\n",
    "\n",
    "# Identify categorical features\n",
    "category_cols = X.select_dtypes(include=[object, 'category']).columns.tolist()\n",
    "\n",
    "# Split data into training (70%) and testing (30%) sets\n",
    "X_train, X_test, y_train, y_test = train_test_split(X, y, test_size=0.3, random_state=42, stratify=y)\n",
    "\n",
    "# Verify the shapes of training and testing datasets\n",
    "print(f\"Training set: {X_train.shape}, Testing set: {X_test.shape}\")"
   ]
  },
  {
   "cell_type": "code",
   "execution_count": null,
   "id": "6f7dfee6",
   "metadata": {},
   "outputs": [],
   "source": [
    "import matplotlib.pyplot as plt\n",
    "import shap\n",
    "import numpy as np"
   ]
  },
  {
   "cell_type": "code",
   "execution_count": null,
   "id": "7e4afc54",
   "metadata": {},
   "outputs": [],
   "source": [
    "# Train the CatBoost model using the best hyperparameters from earlier\n",
    "best_model = CatBoostClassifier(\n",
    "    cat_features=category_cols,\n",
    "    learning_rate=0.03,  # Replace with the best learning rate from grid search\n",
    "    depth=4,           # Replace with the best depth from grid search\n",
    "    l2_leaf_reg=5,     # Replace with the best l2_leaf_reg from grid search\n",
    "    random_state=42,\n",
    "    verbose=0\n",
    ")\n",
    "best_model.fit(X_train, y_train)\n",
    "\n",
    "# Check feature importances as reported by CatBoost\n",
    "catboost_importances = best_model.get_feature_importance(prettified=True)\n",
    "print(catboost_importances)"
   ]
  },
  {
   "cell_type": "code",
   "execution_count": null,
   "id": "573545ca",
   "metadata": {},
   "outputs": [],
   "source": [
    "# Initialize the SHAP TreeExplainer\n",
    "explainer = shap.TreeExplainer(best_model)\n",
    "\n",
    "# Calculate SHAP values for the test set\n",
    "shap_values = explainer.shap_values(X_test)\n",
    "\n",
    "# Verify SHAP values shape\n",
    "print(f\"SHAP values shape: {np.array(shap_values).shape}\")"
   ]
  },
  {
   "cell_type": "code",
   "execution_count": null,
   "id": "96d8f95e",
   "metadata": {},
   "outputs": [],
   "source": [
    "# Generate SHAP summary bar plot with annotations\n",
    "plt.figure(figsize=(10, 8))\n",
    "\n",
    "# Create the summary plot without showing it yet\n",
    "shap.summary_plot(shap_values, X_test, plot_type=\"bar\", show=False)\n",
    "\n",
    "# Get feature importances (absolute mean SHAP values per feature)\n",
    "feature_importances = np.abs(shap_values).mean(0)\n",
    "sorted_indices = np.argsort(feature_importances)[::-1]  # Sorting by importance\n",
    "\n",
    "# Retrieve the current plot's axis for annotation\n",
    "ax = plt.gca()\n",
    "bars = ax.patches\n",
    "\n",
    "# Annotate bars with SHAP importance values\n",
    "for bar, index in zip(bars, sorted_indices):\n",
    "    width = bar.get_width()\n",
    "    ax.text(width + 0.02, bar.get_y() + bar.get_height() / 2,  # Position text slightly after the bar ends\n",
    "            f'{width:.4f}', ha='left', va='center', fontsize=12, color='black')\n",
    "\n",
    "# Save the SHAP summary plot as a high-resolution image\n",
    "plt.tight_layout()\n",
    "plt.savefig(\"[ASD]_shap_summary_plot_bar_custom_fixed_auto.png\", dpi=1000)\n",
    "plt.close()"
   ]
  },
  {
   "cell_type": "code",
   "execution_count": null,
   "id": "ce857adb-0d7f-445d-9b61-514b61d41dab",
   "metadata": {},
   "outputs": [],
   "source": [
    "# Generate SHAP detailed summary plot\n",
    "plt.figure(figsize=(10, 8))\n",
    "\n",
    "# Generate the summary plot with detailed feature value distribution\n",
    "shap.summary_plot(shap_values, X_test, plot_type=\"dot\", show=False, plot_size=(10, 8))\n",
    "\n",
    "# Save the detailed SHAP summary plot as a high-resolution image\n",
    "plt.tight_layout()\n",
    "plt.savefig(\"[ASD]_shap_detailed_summary_plot_fixed.png\", dpi=1000, bbox_inches=\"tight\")\n",
    "plt.close()\n",
    "\n",
    "print(\"Detailed SHAP summary plot saved successfully!\")"
   ]
  },
  {
   "cell_type": "code",
   "execution_count": null,
   "id": "33b3b192",
   "metadata": {},
   "outputs": [],
   "source": [
    "# Generate and save SHAP dependence plots\n",
    "plt.figure(figsize=(8, 6))\n",
    "shap.dependence_plot('SRS', shap_values, X_test, interaction_index='CARS', show=False)\n",
    "plt.tight_layout()  # Adjust layout to avoid overlap\n",
    "plt.savefig(\"[ASD]_shap_dependence_plot_SRS_CARS.png\", dpi=1000, bbox_inches='tight')\n",
    "plt.close()\n",
    "\n",
    "plt.figure(figsize=(8, 6))\n",
    "shap.dependence_plot('CARS', shap_values, X_test, interaction_index='AQ10', show=False)\n",
    "plt.tight_layout()  # Adjust layout to avoid overlap\n",
    "plt.savefig(\"[ASD]_shap_dependence_plot_CARS_AQ10.png\", dpi=1000, bbox_inches='tight')\n",
    "plt.close()\n",
    "\n",
    "plt.figure(figsize=(8, 6))\n",
    "shap.dependence_plot('AQ10', shap_values, X_test, interaction_index='SRS', show=False)\n",
    "plt.tight_layout()  # Adjust layout to avoid overlap\n",
    "plt.savefig(\"[ASD]_shap_dependence_plot_AQ10_SRS.png\", dpi=1000, bbox_inches='tight')\n",
    "plt.close()\n",
    "\n",
    "print(\"All SHAP dependence plots saved successfully!\")"
   ]
  },
  {
   "cell_type": "code",
   "execution_count": null,
   "id": "c2dd651c",
   "metadata": {},
   "outputs": [],
   "source": [
    "# Create a SHAP explainer object for the trained model\n",
    "explainer = shap.TreeExplainer(best_model)\n",
    "\n",
    "# Calculate SHAP values for the test set\n",
    "shap_values = explainer(X_test)\n",
    "\n",
    "# SHAP values are ready to use for visualizations\n",
    "print(\"SHAP values calculated successfully!\")"
   ]
  },
  {
   "cell_type": "code",
   "execution_count": null,
   "id": "c1cc172b",
   "metadata": {},
   "outputs": [],
   "source": [
    "# Generate SHAP Waterfall Plot for the first instance\n",
    "plt.figure(figsize=(10, 8))\n",
    "shap.waterfall_plot(shap_values[0], show=False)  # First observation\n",
    "plt.tight_layout()\n",
    "plt.savefig(\"[ASD] shap_waterfall_plot_obs_1.png\", dpi=1000)\n",
    "plt.close()\n",
    "\n",
    "print(\"Waterfall plot for the first observation saved as '[ASD] shap_waterfall_plot_obs_1.png'.\")"
   ]
  },
  {
   "cell_type": "code",
   "execution_count": null,
   "id": "df3aaabb-abfc-41d6-a801-4adbdcd27439",
   "metadata": {},
   "outputs": [],
   "source": [
    "# Generate SHAP Waterfall Plot for a specific observation (e.g., 3rd instance)\n",
    "plt.figure(figsize=(10, 8))\n",
    "shap.waterfall_plot(shap_values[10], show=False)  # Third observation\n",
    "plt.tight_layout()\n",
    "plt.savefig(\"[ASD] shap_waterfall_plot_obs_11.png\", dpi=1000)\n",
    "plt.close()\n",
    "\n",
    "print(\"Waterfall plot for the third observation saved as '[ASD] shap_waterfall_plot_obs_11.png'.\")"
   ]
  },
  {
   "cell_type": "code",
   "execution_count": null,
   "id": "0d08b232-3c21-4964-8c1b-285c02620d95",
   "metadata": {},
   "outputs": [],
   "source": [
    "# Extract SHAP values as a NumPy array for the decision plot\n",
    "shap_values_array = shap_values.values\n",
    "\n",
    "# Generate SHAP Decision Plot\n",
    "plt.figure(figsize=(10, 8))\n",
    "shap.decision_plot(explainer.expected_value, shap_values_array, X_test, show=False)\n",
    "plt.tight_layout()\n",
    "plt.savefig(\"[ASD] shap_decision_plot.png\", dpi=1000)\n",
    "plt.close()\n",
    "\n",
    "print(\"Decision plot saved as '[ASD] shap_decision_plot.png'.\")"
   ]
  },
  {
   "cell_type": "code",
   "execution_count": null,
   "id": "68b6f73f-8bda-408b-a106-259061c2cd37",
   "metadata": {},
   "outputs": [],
   "source": [
    "# Generate SHAP Heatmap Plot\n",
    "plt.figure(figsize=(10, 8))\n",
    "shap.plots.heatmap(shap_values, show=False)\n",
    "plt.tight_layout()\n",
    "plt.savefig(\"[ASD] shap_heatmap_plot.png\", dpi=1000)\n",
    "plt.close()\n",
    "\n",
    "print(\"Heatmap plot saved as '[ASD] shap_heatmap_plot.png'.\")"
   ]
  }
 ],
 "metadata": {
  "kernelspec": {
   "display_name": "Python 3 (ipykernel)",
   "language": "python",
   "name": "python3"
  },
  "language_info": {
   "codemirror_mode": {
    "name": "ipython",
    "version": 3
   },
   "file_extension": ".py",
   "mimetype": "text/x-python",
   "name": "python",
   "nbconvert_exporter": "python",
   "pygments_lexer": "ipython3",
   "version": "3.11.5"
  }
 },
 "nbformat": 4,
 "nbformat_minor": 5
}
